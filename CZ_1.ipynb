{
  "nbformat": 4,
  "nbformat_minor": 0,
  "metadata": {
    "colab": {
      "provenance": [],
      "gpuType": "T4"
    },
    "kernelspec": {
      "name": "python3",
      "display_name": "Python 3"
    },
    "language_info": {
      "name": "python"
    },
    "accelerator": "GPU"
  },
  "cells": [
    {
      "cell_type": "code",
      "source": [
        "!pip install ta"
      ],
      "metadata": {
        "colab": {
          "base_uri": "https://localhost:8080/"
        },
        "id": "LdLzji-PAJTr",
        "outputId": "f1e7dc94-fa7e-482d-fe15-d0b8304f2f62"
      },
      "execution_count": 1,
      "outputs": [
        {
          "output_type": "stream",
          "name": "stdout",
          "text": [
            "Collecting ta\n",
            "  Downloading ta-0.11.0.tar.gz (25 kB)\n",
            "  Preparing metadata (setup.py) ... \u001b[?25l\u001b[?25hdone\n",
            "Requirement already satisfied: numpy in /usr/local/lib/python3.10/dist-packages (from ta) (1.26.4)\n",
            "Requirement already satisfied: pandas in /usr/local/lib/python3.10/dist-packages (from ta) (2.1.4)\n",
            "Requirement already satisfied: python-dateutil>=2.8.2 in /usr/local/lib/python3.10/dist-packages (from pandas->ta) (2.8.2)\n",
            "Requirement already satisfied: pytz>=2020.1 in /usr/local/lib/python3.10/dist-packages (from pandas->ta) (2024.1)\n",
            "Requirement already satisfied: tzdata>=2022.1 in /usr/local/lib/python3.10/dist-packages (from pandas->ta) (2024.1)\n",
            "Requirement already satisfied: six>=1.5 in /usr/local/lib/python3.10/dist-packages (from python-dateutil>=2.8.2->pandas->ta) (1.16.0)\n",
            "Building wheels for collected packages: ta\n",
            "  Building wheel for ta (setup.py) ... \u001b[?25l\u001b[?25hdone\n",
            "  Created wheel for ta: filename=ta-0.11.0-py3-none-any.whl size=29412 sha256=a08aecd1b6a84054a5db3bf9ac382649e0f8f2a267fe07635c7767395ac38224\n",
            "  Stored in directory: /root/.cache/pip/wheels/5f/67/4f/8a9f252836e053e532c6587a3230bc72a4deb16b03a829610b\n",
            "Successfully built ta\n",
            "Installing collected packages: ta\n",
            "Successfully installed ta-0.11.0\n"
          ]
        }
      ]
    },
    {
      "cell_type": "code",
      "execution_count": 44,
      "metadata": {
        "id": "50O4TD2RtMan"
      },
      "outputs": [],
      "source": [
        "# import required libraries\n",
        "import pandas as pd\n",
        "import numpy as np\n",
        "import ta\n",
        "import matplotlib.pyplot as plt\n",
        "import seaborn as sns"
      ]
    },
    {
      "cell_type": "code",
      "source": [
        "stop_loss_multiplier = 1.0\n",
        "risk_reward_ratio = 2.0\n",
        "set_adx_value = 25"
      ],
      "metadata": {
        "id": "dvayxpFyri5L"
      },
      "execution_count": 537,
      "outputs": []
    },
    {
      "cell_type": "code",
      "source": [
        "# !nvidia-smi"
      ],
      "metadata": {
        "id": "Ovk5nnQZtFWH"
      },
      "execution_count": 538,
      "outputs": []
    },
    {
      "cell_type": "code",
      "source": [
        "df = pd.read_csv('ETHUSD_M15.csv')\n",
        "df.head()"
      ],
      "metadata": {
        "colab": {
          "base_uri": "https://localhost:8080/",
          "height": 206
        },
        "id": "QpTPEm0ozJ5v",
        "outputId": "771e67fd-7d22-4da4-aa30-e0189874f300"
      },
      "execution_count": 560,
      "outputs": [
        {
          "output_type": "execute_result",
          "data": {
            "text/plain": [
              "               Date    Open    High     Low   Close  Vol\n",
              "0  06/10/2021 12:45  3436.2  3455.9  3426.7  3453.6    1\n",
              "1  06/10/2021 13:00  3453.6  3572.5  3441.1  3539.5    1\n",
              "2  06/10/2021 13:15  3539.1  3567.9  3511.1  3551.1    1\n",
              "3  06/10/2021 13:30  3551.1  3578.6  3528.0  3578.6    1\n",
              "4  06/10/2021 13:45  3578.7  3619.7  3557.2  3574.7    2"
            ],
            "text/html": [
              "\n",
              "  <div id=\"df-10b75895-60cb-4591-964f-f5cae3696434\" class=\"colab-df-container\">\n",
              "    <div>\n",
              "<style scoped>\n",
              "    .dataframe tbody tr th:only-of-type {\n",
              "        vertical-align: middle;\n",
              "    }\n",
              "\n",
              "    .dataframe tbody tr th {\n",
              "        vertical-align: top;\n",
              "    }\n",
              "\n",
              "    .dataframe thead th {\n",
              "        text-align: right;\n",
              "    }\n",
              "</style>\n",
              "<table border=\"1\" class=\"dataframe\">\n",
              "  <thead>\n",
              "    <tr style=\"text-align: right;\">\n",
              "      <th></th>\n",
              "      <th>Date</th>\n",
              "      <th>Open</th>\n",
              "      <th>High</th>\n",
              "      <th>Low</th>\n",
              "      <th>Close</th>\n",
              "      <th>Vol</th>\n",
              "    </tr>\n",
              "  </thead>\n",
              "  <tbody>\n",
              "    <tr>\n",
              "      <th>0</th>\n",
              "      <td>06/10/2021 12:45</td>\n",
              "      <td>3436.2</td>\n",
              "      <td>3455.9</td>\n",
              "      <td>3426.7</td>\n",
              "      <td>3453.6</td>\n",
              "      <td>1</td>\n",
              "    </tr>\n",
              "    <tr>\n",
              "      <th>1</th>\n",
              "      <td>06/10/2021 13:00</td>\n",
              "      <td>3453.6</td>\n",
              "      <td>3572.5</td>\n",
              "      <td>3441.1</td>\n",
              "      <td>3539.5</td>\n",
              "      <td>1</td>\n",
              "    </tr>\n",
              "    <tr>\n",
              "      <th>2</th>\n",
              "      <td>06/10/2021 13:15</td>\n",
              "      <td>3539.1</td>\n",
              "      <td>3567.9</td>\n",
              "      <td>3511.1</td>\n",
              "      <td>3551.1</td>\n",
              "      <td>1</td>\n",
              "    </tr>\n",
              "    <tr>\n",
              "      <th>3</th>\n",
              "      <td>06/10/2021 13:30</td>\n",
              "      <td>3551.1</td>\n",
              "      <td>3578.6</td>\n",
              "      <td>3528.0</td>\n",
              "      <td>3578.6</td>\n",
              "      <td>1</td>\n",
              "    </tr>\n",
              "    <tr>\n",
              "      <th>4</th>\n",
              "      <td>06/10/2021 13:45</td>\n",
              "      <td>3578.7</td>\n",
              "      <td>3619.7</td>\n",
              "      <td>3557.2</td>\n",
              "      <td>3574.7</td>\n",
              "      <td>2</td>\n",
              "    </tr>\n",
              "  </tbody>\n",
              "</table>\n",
              "</div>\n",
              "    <div class=\"colab-df-buttons\">\n",
              "\n",
              "  <div class=\"colab-df-container\">\n",
              "    <button class=\"colab-df-convert\" onclick=\"convertToInteractive('df-10b75895-60cb-4591-964f-f5cae3696434')\"\n",
              "            title=\"Convert this dataframe to an interactive table.\"\n",
              "            style=\"display:none;\">\n",
              "\n",
              "  <svg xmlns=\"http://www.w3.org/2000/svg\" height=\"24px\" viewBox=\"0 -960 960 960\">\n",
              "    <path d=\"M120-120v-720h720v720H120Zm60-500h600v-160H180v160Zm220 220h160v-160H400v160Zm0 220h160v-160H400v160ZM180-400h160v-160H180v160Zm440 0h160v-160H620v160ZM180-180h160v-160H180v160Zm440 0h160v-160H620v160Z\"/>\n",
              "  </svg>\n",
              "    </button>\n",
              "\n",
              "  <style>\n",
              "    .colab-df-container {\n",
              "      display:flex;\n",
              "      gap: 12px;\n",
              "    }\n",
              "\n",
              "    .colab-df-convert {\n",
              "      background-color: #E8F0FE;\n",
              "      border: none;\n",
              "      border-radius: 50%;\n",
              "      cursor: pointer;\n",
              "      display: none;\n",
              "      fill: #1967D2;\n",
              "      height: 32px;\n",
              "      padding: 0 0 0 0;\n",
              "      width: 32px;\n",
              "    }\n",
              "\n",
              "    .colab-df-convert:hover {\n",
              "      background-color: #E2EBFA;\n",
              "      box-shadow: 0px 1px 2px rgba(60, 64, 67, 0.3), 0px 1px 3px 1px rgba(60, 64, 67, 0.15);\n",
              "      fill: #174EA6;\n",
              "    }\n",
              "\n",
              "    .colab-df-buttons div {\n",
              "      margin-bottom: 4px;\n",
              "    }\n",
              "\n",
              "    [theme=dark] .colab-df-convert {\n",
              "      background-color: #3B4455;\n",
              "      fill: #D2E3FC;\n",
              "    }\n",
              "\n",
              "    [theme=dark] .colab-df-convert:hover {\n",
              "      background-color: #434B5C;\n",
              "      box-shadow: 0px 1px 3px 1px rgba(0, 0, 0, 0.15);\n",
              "      filter: drop-shadow(0px 1px 2px rgba(0, 0, 0, 0.3));\n",
              "      fill: #FFFFFF;\n",
              "    }\n",
              "  </style>\n",
              "\n",
              "    <script>\n",
              "      const buttonEl =\n",
              "        document.querySelector('#df-10b75895-60cb-4591-964f-f5cae3696434 button.colab-df-convert');\n",
              "      buttonEl.style.display =\n",
              "        google.colab.kernel.accessAllowed ? 'block' : 'none';\n",
              "\n",
              "      async function convertToInteractive(key) {\n",
              "        const element = document.querySelector('#df-10b75895-60cb-4591-964f-f5cae3696434');\n",
              "        const dataTable =\n",
              "          await google.colab.kernel.invokeFunction('convertToInteractive',\n",
              "                                                    [key], {});\n",
              "        if (!dataTable) return;\n",
              "\n",
              "        const docLinkHtml = 'Like what you see? Visit the ' +\n",
              "          '<a target=\"_blank\" href=https://colab.research.google.com/notebooks/data_table.ipynb>data table notebook</a>'\n",
              "          + ' to learn more about interactive tables.';\n",
              "        element.innerHTML = '';\n",
              "        dataTable['output_type'] = 'display_data';\n",
              "        await google.colab.output.renderOutput(dataTable, element);\n",
              "        const docLink = document.createElement('div');\n",
              "        docLink.innerHTML = docLinkHtml;\n",
              "        element.appendChild(docLink);\n",
              "      }\n",
              "    </script>\n",
              "  </div>\n",
              "\n",
              "\n",
              "<div id=\"df-e99dede1-02de-4618-a27c-681800bf3ab8\">\n",
              "  <button class=\"colab-df-quickchart\" onclick=\"quickchart('df-e99dede1-02de-4618-a27c-681800bf3ab8')\"\n",
              "            title=\"Suggest charts\"\n",
              "            style=\"display:none;\">\n",
              "\n",
              "<svg xmlns=\"http://www.w3.org/2000/svg\" height=\"24px\"viewBox=\"0 0 24 24\"\n",
              "     width=\"24px\">\n",
              "    <g>\n",
              "        <path d=\"M19 3H5c-1.1 0-2 .9-2 2v14c0 1.1.9 2 2 2h14c1.1 0 2-.9 2-2V5c0-1.1-.9-2-2-2zM9 17H7v-7h2v7zm4 0h-2V7h2v10zm4 0h-2v-4h2v4z\"/>\n",
              "    </g>\n",
              "</svg>\n",
              "  </button>\n",
              "\n",
              "<style>\n",
              "  .colab-df-quickchart {\n",
              "      --bg-color: #E8F0FE;\n",
              "      --fill-color: #1967D2;\n",
              "      --hover-bg-color: #E2EBFA;\n",
              "      --hover-fill-color: #174EA6;\n",
              "      --disabled-fill-color: #AAA;\n",
              "      --disabled-bg-color: #DDD;\n",
              "  }\n",
              "\n",
              "  [theme=dark] .colab-df-quickchart {\n",
              "      --bg-color: #3B4455;\n",
              "      --fill-color: #D2E3FC;\n",
              "      --hover-bg-color: #434B5C;\n",
              "      --hover-fill-color: #FFFFFF;\n",
              "      --disabled-bg-color: #3B4455;\n",
              "      --disabled-fill-color: #666;\n",
              "  }\n",
              "\n",
              "  .colab-df-quickchart {\n",
              "    background-color: var(--bg-color);\n",
              "    border: none;\n",
              "    border-radius: 50%;\n",
              "    cursor: pointer;\n",
              "    display: none;\n",
              "    fill: var(--fill-color);\n",
              "    height: 32px;\n",
              "    padding: 0;\n",
              "    width: 32px;\n",
              "  }\n",
              "\n",
              "  .colab-df-quickchart:hover {\n",
              "    background-color: var(--hover-bg-color);\n",
              "    box-shadow: 0 1px 2px rgba(60, 64, 67, 0.3), 0 1px 3px 1px rgba(60, 64, 67, 0.15);\n",
              "    fill: var(--button-hover-fill-color);\n",
              "  }\n",
              "\n",
              "  .colab-df-quickchart-complete:disabled,\n",
              "  .colab-df-quickchart-complete:disabled:hover {\n",
              "    background-color: var(--disabled-bg-color);\n",
              "    fill: var(--disabled-fill-color);\n",
              "    box-shadow: none;\n",
              "  }\n",
              "\n",
              "  .colab-df-spinner {\n",
              "    border: 2px solid var(--fill-color);\n",
              "    border-color: transparent;\n",
              "    border-bottom-color: var(--fill-color);\n",
              "    animation:\n",
              "      spin 1s steps(1) infinite;\n",
              "  }\n",
              "\n",
              "  @keyframes spin {\n",
              "    0% {\n",
              "      border-color: transparent;\n",
              "      border-bottom-color: var(--fill-color);\n",
              "      border-left-color: var(--fill-color);\n",
              "    }\n",
              "    20% {\n",
              "      border-color: transparent;\n",
              "      border-left-color: var(--fill-color);\n",
              "      border-top-color: var(--fill-color);\n",
              "    }\n",
              "    30% {\n",
              "      border-color: transparent;\n",
              "      border-left-color: var(--fill-color);\n",
              "      border-top-color: var(--fill-color);\n",
              "      border-right-color: var(--fill-color);\n",
              "    }\n",
              "    40% {\n",
              "      border-color: transparent;\n",
              "      border-right-color: var(--fill-color);\n",
              "      border-top-color: var(--fill-color);\n",
              "    }\n",
              "    60% {\n",
              "      border-color: transparent;\n",
              "      border-right-color: var(--fill-color);\n",
              "    }\n",
              "    80% {\n",
              "      border-color: transparent;\n",
              "      border-right-color: var(--fill-color);\n",
              "      border-bottom-color: var(--fill-color);\n",
              "    }\n",
              "    90% {\n",
              "      border-color: transparent;\n",
              "      border-bottom-color: var(--fill-color);\n",
              "    }\n",
              "  }\n",
              "</style>\n",
              "\n",
              "  <script>\n",
              "    async function quickchart(key) {\n",
              "      const quickchartButtonEl =\n",
              "        document.querySelector('#' + key + ' button');\n",
              "      quickchartButtonEl.disabled = true;  // To prevent multiple clicks.\n",
              "      quickchartButtonEl.classList.add('colab-df-spinner');\n",
              "      try {\n",
              "        const charts = await google.colab.kernel.invokeFunction(\n",
              "            'suggestCharts', [key], {});\n",
              "      } catch (error) {\n",
              "        console.error('Error during call to suggestCharts:', error);\n",
              "      }\n",
              "      quickchartButtonEl.classList.remove('colab-df-spinner');\n",
              "      quickchartButtonEl.classList.add('colab-df-quickchart-complete');\n",
              "    }\n",
              "    (() => {\n",
              "      let quickchartButtonEl =\n",
              "        document.querySelector('#df-e99dede1-02de-4618-a27c-681800bf3ab8 button');\n",
              "      quickchartButtonEl.style.display =\n",
              "        google.colab.kernel.accessAllowed ? 'block' : 'none';\n",
              "    })();\n",
              "  </script>\n",
              "</div>\n",
              "\n",
              "    </div>\n",
              "  </div>\n"
            ],
            "application/vnd.google.colaboratory.intrinsic+json": {
              "type": "dataframe",
              "variable_name": "df",
              "summary": "{\n  \"name\": \"df\",\n  \"rows\": 100000,\n  \"fields\": [\n    {\n      \"column\": \"Date\",\n      \"properties\": {\n        \"dtype\": \"string\",\n        \"num_unique_values\": 100000,\n        \"samples\": [\n          \"22/12/2023 05:00\",\n          \"08/02/2024 20:30\",\n          \"14/05/2022 17:15\"\n        ],\n        \"semantic_type\": \"\",\n        \"description\": \"\"\n      }\n    },\n    {\n      \"column\": \"Open\",\n      \"properties\": {\n        \"dtype\": \"number\",\n        \"std\": 911.8007768118443,\n        \"min\": 893.2,\n        \"max\": 4844.4,\n        \"num_unique_values\": 29614,\n        \"samples\": [\n          3848.9,\n          2060.3,\n          2724.9\n        ],\n        \"semantic_type\": \"\",\n        \"description\": \"\"\n      }\n    },\n    {\n      \"column\": \"High\",\n      \"properties\": {\n        \"dtype\": \"number\",\n        \"std\": 914.1366211892858,\n        \"min\": 899.1,\n        \"max\": 4862.8,\n        \"num_unique_values\": 29593,\n        \"samples\": [\n          4012.7,\n          2032.3,\n          3179.6\n        ],\n        \"semantic_type\": \"\",\n        \"description\": \"\"\n      }\n    },\n    {\n      \"column\": \"Low\",\n      \"properties\": {\n        \"dtype\": \"number\",\n        \"std\": 909.3482922884474,\n        \"min\": 875.6,\n        \"max\": 4840.7,\n        \"num_unique_values\": 29443,\n        \"samples\": [\n          2445.3,\n          4713.1,\n          2352.9\n        ],\n        \"semantic_type\": \"\",\n        \"description\": \"\"\n      }\n    },\n    {\n      \"column\": \"Close\",\n      \"properties\": {\n        \"dtype\": \"number\",\n        \"std\": 911.8062928845939,\n        \"min\": 893.3,\n        \"max\": 4844.6,\n        \"num_unique_values\": 29632,\n        \"samples\": [\n          3878.8,\n          1736.8,\n          3017.0\n        ],\n        \"semantic_type\": \"\",\n        \"description\": \"\"\n      }\n    },\n    {\n      \"column\": \"Vol\",\n      \"properties\": {\n        \"dtype\": \"number\",\n        \"std\": 0,\n        \"min\": 1,\n        \"max\": 7,\n        \"num_unique_values\": 7,\n        \"samples\": [\n          1,\n          2,\n          7\n        ],\n        \"semantic_type\": \"\",\n        \"description\": \"\"\n      }\n    }\n  ]\n}"
            }
          },
          "metadata": {},
          "execution_count": 560
        }
      ]
    },
    {
      "cell_type": "code",
      "source": [
        "df.info()"
      ],
      "metadata": {
        "colab": {
          "base_uri": "https://localhost:8080/"
        },
        "id": "se-QZXUJz_OO",
        "outputId": "24cf807a-0cb3-4fd7-98cc-4ae783beb76c"
      },
      "execution_count": 561,
      "outputs": [
        {
          "output_type": "stream",
          "name": "stdout",
          "text": [
            "<class 'pandas.core.frame.DataFrame'>\n",
            "RangeIndex: 100000 entries, 0 to 99999\n",
            "Data columns (total 6 columns):\n",
            " #   Column  Non-Null Count   Dtype  \n",
            "---  ------  --------------   -----  \n",
            " 0   Date    100000 non-null  object \n",
            " 1   Open    100000 non-null  float64\n",
            " 2   High    100000 non-null  float64\n",
            " 3   Low     100000 non-null  float64\n",
            " 4   Close   100000 non-null  float64\n",
            " 5   Vol     100000 non-null  int64  \n",
            "dtypes: float64(4), int64(1), object(1)\n",
            "memory usage: 4.6+ MB\n"
          ]
        }
      ]
    },
    {
      "cell_type": "code",
      "source": [
        "df['Date'] = pd.to_datetime(df['Date'], format='%d/%m/%Y %H:%M')\n",
        "df.info()"
      ],
      "metadata": {
        "colab": {
          "base_uri": "https://localhost:8080/"
        },
        "id": "arOxgUmv0HO3",
        "outputId": "b5bba056-aee0-4a44-fbb9-44c0136c8955"
      },
      "execution_count": 562,
      "outputs": [
        {
          "output_type": "stream",
          "name": "stdout",
          "text": [
            "<class 'pandas.core.frame.DataFrame'>\n",
            "RangeIndex: 100000 entries, 0 to 99999\n",
            "Data columns (total 6 columns):\n",
            " #   Column  Non-Null Count   Dtype         \n",
            "---  ------  --------------   -----         \n",
            " 0   Date    100000 non-null  datetime64[ns]\n",
            " 1   Open    100000 non-null  float64       \n",
            " 2   High    100000 non-null  float64       \n",
            " 3   Low     100000 non-null  float64       \n",
            " 4   Close   100000 non-null  float64       \n",
            " 5   Vol     100000 non-null  int64         \n",
            "dtypes: datetime64[ns](1), float64(4), int64(1)\n",
            "memory usage: 4.6 MB\n"
          ]
        }
      ]
    },
    {
      "cell_type": "code",
      "source": [
        "df.set_index('Date', inplace=True)\n",
        "df.head()"
      ],
      "metadata": {
        "colab": {
          "base_uri": "https://localhost:8080/",
          "height": 238
        },
        "id": "adCbEmBp0Qnd",
        "outputId": "c46001d9-4869-4fce-bc09-30d324d59b6f"
      },
      "execution_count": 563,
      "outputs": [
        {
          "output_type": "execute_result",
          "data": {
            "text/plain": [
              "                       Open    High     Low   Close  Vol\n",
              "Date                                                    \n",
              "2021-10-06 12:45:00  3436.2  3455.9  3426.7  3453.6    1\n",
              "2021-10-06 13:00:00  3453.6  3572.5  3441.1  3539.5    1\n",
              "2021-10-06 13:15:00  3539.1  3567.9  3511.1  3551.1    1\n",
              "2021-10-06 13:30:00  3551.1  3578.6  3528.0  3578.6    1\n",
              "2021-10-06 13:45:00  3578.7  3619.7  3557.2  3574.7    2"
            ],
            "text/html": [
              "\n",
              "  <div id=\"df-34190fb7-cd2d-4434-94e4-fd01730f5f27\" class=\"colab-df-container\">\n",
              "    <div>\n",
              "<style scoped>\n",
              "    .dataframe tbody tr th:only-of-type {\n",
              "        vertical-align: middle;\n",
              "    }\n",
              "\n",
              "    .dataframe tbody tr th {\n",
              "        vertical-align: top;\n",
              "    }\n",
              "\n",
              "    .dataframe thead th {\n",
              "        text-align: right;\n",
              "    }\n",
              "</style>\n",
              "<table border=\"1\" class=\"dataframe\">\n",
              "  <thead>\n",
              "    <tr style=\"text-align: right;\">\n",
              "      <th></th>\n",
              "      <th>Open</th>\n",
              "      <th>High</th>\n",
              "      <th>Low</th>\n",
              "      <th>Close</th>\n",
              "      <th>Vol</th>\n",
              "    </tr>\n",
              "    <tr>\n",
              "      <th>Date</th>\n",
              "      <th></th>\n",
              "      <th></th>\n",
              "      <th></th>\n",
              "      <th></th>\n",
              "      <th></th>\n",
              "    </tr>\n",
              "  </thead>\n",
              "  <tbody>\n",
              "    <tr>\n",
              "      <th>2021-10-06 12:45:00</th>\n",
              "      <td>3436.2</td>\n",
              "      <td>3455.9</td>\n",
              "      <td>3426.7</td>\n",
              "      <td>3453.6</td>\n",
              "      <td>1</td>\n",
              "    </tr>\n",
              "    <tr>\n",
              "      <th>2021-10-06 13:00:00</th>\n",
              "      <td>3453.6</td>\n",
              "      <td>3572.5</td>\n",
              "      <td>3441.1</td>\n",
              "      <td>3539.5</td>\n",
              "      <td>1</td>\n",
              "    </tr>\n",
              "    <tr>\n",
              "      <th>2021-10-06 13:15:00</th>\n",
              "      <td>3539.1</td>\n",
              "      <td>3567.9</td>\n",
              "      <td>3511.1</td>\n",
              "      <td>3551.1</td>\n",
              "      <td>1</td>\n",
              "    </tr>\n",
              "    <tr>\n",
              "      <th>2021-10-06 13:30:00</th>\n",
              "      <td>3551.1</td>\n",
              "      <td>3578.6</td>\n",
              "      <td>3528.0</td>\n",
              "      <td>3578.6</td>\n",
              "      <td>1</td>\n",
              "    </tr>\n",
              "    <tr>\n",
              "      <th>2021-10-06 13:45:00</th>\n",
              "      <td>3578.7</td>\n",
              "      <td>3619.7</td>\n",
              "      <td>3557.2</td>\n",
              "      <td>3574.7</td>\n",
              "      <td>2</td>\n",
              "    </tr>\n",
              "  </tbody>\n",
              "</table>\n",
              "</div>\n",
              "    <div class=\"colab-df-buttons\">\n",
              "\n",
              "  <div class=\"colab-df-container\">\n",
              "    <button class=\"colab-df-convert\" onclick=\"convertToInteractive('df-34190fb7-cd2d-4434-94e4-fd01730f5f27')\"\n",
              "            title=\"Convert this dataframe to an interactive table.\"\n",
              "            style=\"display:none;\">\n",
              "\n",
              "  <svg xmlns=\"http://www.w3.org/2000/svg\" height=\"24px\" viewBox=\"0 -960 960 960\">\n",
              "    <path d=\"M120-120v-720h720v720H120Zm60-500h600v-160H180v160Zm220 220h160v-160H400v160Zm0 220h160v-160H400v160ZM180-400h160v-160H180v160Zm440 0h160v-160H620v160ZM180-180h160v-160H180v160Zm440 0h160v-160H620v160Z\"/>\n",
              "  </svg>\n",
              "    </button>\n",
              "\n",
              "  <style>\n",
              "    .colab-df-container {\n",
              "      display:flex;\n",
              "      gap: 12px;\n",
              "    }\n",
              "\n",
              "    .colab-df-convert {\n",
              "      background-color: #E8F0FE;\n",
              "      border: none;\n",
              "      border-radius: 50%;\n",
              "      cursor: pointer;\n",
              "      display: none;\n",
              "      fill: #1967D2;\n",
              "      height: 32px;\n",
              "      padding: 0 0 0 0;\n",
              "      width: 32px;\n",
              "    }\n",
              "\n",
              "    .colab-df-convert:hover {\n",
              "      background-color: #E2EBFA;\n",
              "      box-shadow: 0px 1px 2px rgba(60, 64, 67, 0.3), 0px 1px 3px 1px rgba(60, 64, 67, 0.15);\n",
              "      fill: #174EA6;\n",
              "    }\n",
              "\n",
              "    .colab-df-buttons div {\n",
              "      margin-bottom: 4px;\n",
              "    }\n",
              "\n",
              "    [theme=dark] .colab-df-convert {\n",
              "      background-color: #3B4455;\n",
              "      fill: #D2E3FC;\n",
              "    }\n",
              "\n",
              "    [theme=dark] .colab-df-convert:hover {\n",
              "      background-color: #434B5C;\n",
              "      box-shadow: 0px 1px 3px 1px rgba(0, 0, 0, 0.15);\n",
              "      filter: drop-shadow(0px 1px 2px rgba(0, 0, 0, 0.3));\n",
              "      fill: #FFFFFF;\n",
              "    }\n",
              "  </style>\n",
              "\n",
              "    <script>\n",
              "      const buttonEl =\n",
              "        document.querySelector('#df-34190fb7-cd2d-4434-94e4-fd01730f5f27 button.colab-df-convert');\n",
              "      buttonEl.style.display =\n",
              "        google.colab.kernel.accessAllowed ? 'block' : 'none';\n",
              "\n",
              "      async function convertToInteractive(key) {\n",
              "        const element = document.querySelector('#df-34190fb7-cd2d-4434-94e4-fd01730f5f27');\n",
              "        const dataTable =\n",
              "          await google.colab.kernel.invokeFunction('convertToInteractive',\n",
              "                                                    [key], {});\n",
              "        if (!dataTable) return;\n",
              "\n",
              "        const docLinkHtml = 'Like what you see? Visit the ' +\n",
              "          '<a target=\"_blank\" href=https://colab.research.google.com/notebooks/data_table.ipynb>data table notebook</a>'\n",
              "          + ' to learn more about interactive tables.';\n",
              "        element.innerHTML = '';\n",
              "        dataTable['output_type'] = 'display_data';\n",
              "        await google.colab.output.renderOutput(dataTable, element);\n",
              "        const docLink = document.createElement('div');\n",
              "        docLink.innerHTML = docLinkHtml;\n",
              "        element.appendChild(docLink);\n",
              "      }\n",
              "    </script>\n",
              "  </div>\n",
              "\n",
              "\n",
              "<div id=\"df-9ba02fdf-21c6-4801-99fa-6953f0aeea3d\">\n",
              "  <button class=\"colab-df-quickchart\" onclick=\"quickchart('df-9ba02fdf-21c6-4801-99fa-6953f0aeea3d')\"\n",
              "            title=\"Suggest charts\"\n",
              "            style=\"display:none;\">\n",
              "\n",
              "<svg xmlns=\"http://www.w3.org/2000/svg\" height=\"24px\"viewBox=\"0 0 24 24\"\n",
              "     width=\"24px\">\n",
              "    <g>\n",
              "        <path d=\"M19 3H5c-1.1 0-2 .9-2 2v14c0 1.1.9 2 2 2h14c1.1 0 2-.9 2-2V5c0-1.1-.9-2-2-2zM9 17H7v-7h2v7zm4 0h-2V7h2v10zm4 0h-2v-4h2v4z\"/>\n",
              "    </g>\n",
              "</svg>\n",
              "  </button>\n",
              "\n",
              "<style>\n",
              "  .colab-df-quickchart {\n",
              "      --bg-color: #E8F0FE;\n",
              "      --fill-color: #1967D2;\n",
              "      --hover-bg-color: #E2EBFA;\n",
              "      --hover-fill-color: #174EA6;\n",
              "      --disabled-fill-color: #AAA;\n",
              "      --disabled-bg-color: #DDD;\n",
              "  }\n",
              "\n",
              "  [theme=dark] .colab-df-quickchart {\n",
              "      --bg-color: #3B4455;\n",
              "      --fill-color: #D2E3FC;\n",
              "      --hover-bg-color: #434B5C;\n",
              "      --hover-fill-color: #FFFFFF;\n",
              "      --disabled-bg-color: #3B4455;\n",
              "      --disabled-fill-color: #666;\n",
              "  }\n",
              "\n",
              "  .colab-df-quickchart {\n",
              "    background-color: var(--bg-color);\n",
              "    border: none;\n",
              "    border-radius: 50%;\n",
              "    cursor: pointer;\n",
              "    display: none;\n",
              "    fill: var(--fill-color);\n",
              "    height: 32px;\n",
              "    padding: 0;\n",
              "    width: 32px;\n",
              "  }\n",
              "\n",
              "  .colab-df-quickchart:hover {\n",
              "    background-color: var(--hover-bg-color);\n",
              "    box-shadow: 0 1px 2px rgba(60, 64, 67, 0.3), 0 1px 3px 1px rgba(60, 64, 67, 0.15);\n",
              "    fill: var(--button-hover-fill-color);\n",
              "  }\n",
              "\n",
              "  .colab-df-quickchart-complete:disabled,\n",
              "  .colab-df-quickchart-complete:disabled:hover {\n",
              "    background-color: var(--disabled-bg-color);\n",
              "    fill: var(--disabled-fill-color);\n",
              "    box-shadow: none;\n",
              "  }\n",
              "\n",
              "  .colab-df-spinner {\n",
              "    border: 2px solid var(--fill-color);\n",
              "    border-color: transparent;\n",
              "    border-bottom-color: var(--fill-color);\n",
              "    animation:\n",
              "      spin 1s steps(1) infinite;\n",
              "  }\n",
              "\n",
              "  @keyframes spin {\n",
              "    0% {\n",
              "      border-color: transparent;\n",
              "      border-bottom-color: var(--fill-color);\n",
              "      border-left-color: var(--fill-color);\n",
              "    }\n",
              "    20% {\n",
              "      border-color: transparent;\n",
              "      border-left-color: var(--fill-color);\n",
              "      border-top-color: var(--fill-color);\n",
              "    }\n",
              "    30% {\n",
              "      border-color: transparent;\n",
              "      border-left-color: var(--fill-color);\n",
              "      border-top-color: var(--fill-color);\n",
              "      border-right-color: var(--fill-color);\n",
              "    }\n",
              "    40% {\n",
              "      border-color: transparent;\n",
              "      border-right-color: var(--fill-color);\n",
              "      border-top-color: var(--fill-color);\n",
              "    }\n",
              "    60% {\n",
              "      border-color: transparent;\n",
              "      border-right-color: var(--fill-color);\n",
              "    }\n",
              "    80% {\n",
              "      border-color: transparent;\n",
              "      border-right-color: var(--fill-color);\n",
              "      border-bottom-color: var(--fill-color);\n",
              "    }\n",
              "    90% {\n",
              "      border-color: transparent;\n",
              "      border-bottom-color: var(--fill-color);\n",
              "    }\n",
              "  }\n",
              "</style>\n",
              "\n",
              "  <script>\n",
              "    async function quickchart(key) {\n",
              "      const quickchartButtonEl =\n",
              "        document.querySelector('#' + key + ' button');\n",
              "      quickchartButtonEl.disabled = true;  // To prevent multiple clicks.\n",
              "      quickchartButtonEl.classList.add('colab-df-spinner');\n",
              "      try {\n",
              "        const charts = await google.colab.kernel.invokeFunction(\n",
              "            'suggestCharts', [key], {});\n",
              "      } catch (error) {\n",
              "        console.error('Error during call to suggestCharts:', error);\n",
              "      }\n",
              "      quickchartButtonEl.classList.remove('colab-df-spinner');\n",
              "      quickchartButtonEl.classList.add('colab-df-quickchart-complete');\n",
              "    }\n",
              "    (() => {\n",
              "      let quickchartButtonEl =\n",
              "        document.querySelector('#df-9ba02fdf-21c6-4801-99fa-6953f0aeea3d button');\n",
              "      quickchartButtonEl.style.display =\n",
              "        google.colab.kernel.accessAllowed ? 'block' : 'none';\n",
              "    })();\n",
              "  </script>\n",
              "</div>\n",
              "\n",
              "    </div>\n",
              "  </div>\n"
            ],
            "application/vnd.google.colaboratory.intrinsic+json": {
              "type": "dataframe",
              "variable_name": "df",
              "summary": "{\n  \"name\": \"df\",\n  \"rows\": 100000,\n  \"fields\": [\n    {\n      \"column\": \"Date\",\n      \"properties\": {\n        \"dtype\": \"date\",\n        \"min\": \"2021-10-06 12:45:00\",\n        \"max\": \"2024-09-02 13:45:00\",\n        \"num_unique_values\": 100000,\n        \"samples\": [\n          \"2023-12-22 05:00:00\",\n          \"2024-02-08 20:30:00\",\n          \"2022-05-14 17:15:00\"\n        ],\n        \"semantic_type\": \"\",\n        \"description\": \"\"\n      }\n    },\n    {\n      \"column\": \"Open\",\n      \"properties\": {\n        \"dtype\": \"number\",\n        \"std\": 911.8007768118443,\n        \"min\": 893.2,\n        \"max\": 4844.4,\n        \"num_unique_values\": 29614,\n        \"samples\": [\n          3848.9,\n          2060.3,\n          2724.9\n        ],\n        \"semantic_type\": \"\",\n        \"description\": \"\"\n      }\n    },\n    {\n      \"column\": \"High\",\n      \"properties\": {\n        \"dtype\": \"number\",\n        \"std\": 914.1366211892858,\n        \"min\": 899.1,\n        \"max\": 4862.8,\n        \"num_unique_values\": 29593,\n        \"samples\": [\n          4012.7,\n          2032.3,\n          3179.6\n        ],\n        \"semantic_type\": \"\",\n        \"description\": \"\"\n      }\n    },\n    {\n      \"column\": \"Low\",\n      \"properties\": {\n        \"dtype\": \"number\",\n        \"std\": 909.3482922884474,\n        \"min\": 875.6,\n        \"max\": 4840.7,\n        \"num_unique_values\": 29443,\n        \"samples\": [\n          2445.3,\n          4713.1,\n          2352.9\n        ],\n        \"semantic_type\": \"\",\n        \"description\": \"\"\n      }\n    },\n    {\n      \"column\": \"Close\",\n      \"properties\": {\n        \"dtype\": \"number\",\n        \"std\": 911.8062928845939,\n        \"min\": 893.3,\n        \"max\": 4844.6,\n        \"num_unique_values\": 29632,\n        \"samples\": [\n          3878.8,\n          1736.8,\n          3017.0\n        ],\n        \"semantic_type\": \"\",\n        \"description\": \"\"\n      }\n    },\n    {\n      \"column\": \"Vol\",\n      \"properties\": {\n        \"dtype\": \"number\",\n        \"std\": 0,\n        \"min\": 1,\n        \"max\": 7,\n        \"num_unique_values\": 7,\n        \"samples\": [\n          1,\n          2,\n          7\n        ],\n        \"semantic_type\": \"\",\n        \"description\": \"\"\n      }\n    }\n  ]\n}"
            }
          },
          "metadata": {},
          "execution_count": 563
        }
      ]
    },
    {
      "cell_type": "code",
      "source": [
        "# now calculate the lower and upper bb band with a look back of 20, and a stddev of 2.0.\n",
        "# calculate the body size of each candle\n",
        "# calculate the maximum wick size of each candle"
      ],
      "metadata": {
        "id": "8joYM7lX1WFC"
      },
      "execution_count": 564,
      "outputs": []
    },
    {
      "cell_type": "code",
      "source": [
        "# Calculate the moving average (middle band)\n",
        "lookback_period = 20\n",
        "df['MiddleBand'] = df['Close'].rolling(window=lookback_period).mean()\n",
        "# Calculate the standard deviation\n",
        "df['StandardDeviation'] = df['Close'].rolling(window=lookback_period).std()\n",
        "# Calculate the upper and lower Bollinger Bands\n",
        "stddev_multiplier = 2.0\n",
        "df['UpperBand'] = df['MiddleBand'] + (stddev_multiplier * df['StandardDeviation'])\n",
        "df['LowerBand'] = df['MiddleBand'] - (stddev_multiplier * df['StandardDeviation'])"
      ],
      "metadata": {
        "id": "JxrUE2Xm1701"
      },
      "execution_count": 565,
      "outputs": []
    },
    {
      "cell_type": "code",
      "source": [
        "df['BodySize'] = abs(df['Close'] - df['Open'])"
      ],
      "metadata": {
        "id": "N6MPPHzf2Uh5"
      },
      "execution_count": 566,
      "outputs": []
    },
    {
      "cell_type": "code",
      "source": [
        "# Calculate the upper wick size\n",
        "df['UpperWickSize'] = df['High'] - df[['Open', 'Close']].max(axis=1)\n",
        "\n",
        "# Calculate the lower wick size\n",
        "df['LowerWickSize'] = df[['Open', 'Close']].min(axis=1) - df['Low']\n",
        "\n",
        "# Calculate the maximum wick size\n",
        "df['MaxWickSize'] = df[['UpperWickSize', 'LowerWickSize']].max(axis=1)"
      ],
      "metadata": {
        "id": "quXtZl_H2WK2"
      },
      "execution_count": 567,
      "outputs": []
    },
    {
      "cell_type": "code",
      "source": [
        "# check whether the body_size is greater than max wick size\n",
        "df['momentum'] = (df['BodySize'] >= df['MaxWickSize']).astype(int)\n",
        "# df.head(30)"
      ],
      "metadata": {
        "id": "yiWuggfb4y_w"
      },
      "execution_count": 568,
      "outputs": []
    },
    {
      "cell_type": "code",
      "source": [
        "# add adx values and adx condition\n",
        "df['adx_value'] = ta.trend.ADXIndicator(df['High'], df['Low'], df['Close'], window=14).adx()\n",
        "# df.head(30)\n",
        "# df['adx'] = np.where((df['adx_value'] < set_adx_value), 1, 0)\n",
        "df['adx'] = np.where((df['adx_value'] < set_adx_value) & (df['momentum'] == 1), 1, 0)\n",
        "# df.head(30)\n"
      ],
      "metadata": {
        "id": "M5uJjpYO7KXx"
      },
      "execution_count": 569,
      "outputs": []
    },
    {
      "cell_type": "code",
      "source": [
        "# for each candle, check whether the whole body is greater than the upper_bollinger_band and if true return 1, whether the whole body is less than the lower bollinger\n",
        "# band and return 2 and else return 0\n",
        "\n",
        "df['BodyVsBollinger'] = 0\n",
        "# Check if both Open and Close are above the Upper Band\n",
        "df.loc[(df['Open'] >= df['UpperBand']) & (df['Close'] >= df['UpperBand']), 'BodyVsBollinger'] = 1\n",
        "# Check if both Open and Close are below the Lower Band\n",
        "df.loc[(df['Open'] <= df['LowerBand']) & (df['Close'] <= df['LowerBand']), 'BodyVsBollinger'] = 2\n",
        "\n",
        "# Display the updated DataFrame\n",
        "# df.head(30)"
      ],
      "metadata": {
        "id": "aqckyRsp5eax"
      },
      "execution_count": 570,
      "outputs": []
    },
    {
      "cell_type": "code",
      "source": [
        "(df['BodyVsBollinger'] == 1).sum(), (df['BodyVsBollinger'] == 2).sum()"
      ],
      "metadata": {
        "colab": {
          "base_uri": "https://localhost:8080/"
        },
        "id": "jAQbcgbY760B",
        "outputId": "2b61f2c3-3b2b-4797-b9f1-08f083581ef5"
      },
      "execution_count": 571,
      "outputs": [
        {
          "output_type": "execute_result",
          "data": {
            "text/plain": [
              "(1314, 1293)"
            ]
          },
          "metadata": {},
          "execution_count": 571
        }
      ]
    },
    {
      "cell_type": "code",
      "source": [
        "# first we compute the profitability of the system based on manipulation without considering the wick of the body\n",
        "df['pureSignal'] = np.where((df['adx']==1) & (df['BodyVsBollinger']==1), 1,\n",
        "                            np.where((df['adx']==1) & (df['BodyVsBollinger']==2), 2, 0))\n",
        "# df.head(30)"
      ],
      "metadata": {
        "id": "OrfsiOjf8LmB"
      },
      "execution_count": 572,
      "outputs": []
    },
    {
      "cell_type": "code",
      "source": [
        "(df['pureSignal'] == 1).sum(), (df['pureSignal'] == 2).sum()"
      ],
      "metadata": {
        "colab": {
          "base_uri": "https://localhost:8080/"
        },
        "id": "1cmyGzUL9DaD",
        "outputId": "956be995-3a30-47b7-f233-d5a1ec00eb21"
      },
      "execution_count": 573,
      "outputs": [
        {
          "output_type": "execute_result",
          "data": {
            "text/plain": [
              "(144, 134)"
            ]
          },
          "metadata": {},
          "execution_count": 573
        }
      ]
    },
    {
      "cell_type": "markdown",
      "source": [
        "## ADD Trade Parameters\n",
        "* Calculate the upper stop loss and the lower stop loss. Also, calculate the upper take profit and the lower take profit.\n",
        "* To calculate the stop loss value, we use the atr based method. We will define the atr multiplier to get the stop loss of both upper and below!\n"
      ],
      "metadata": {
        "id": "k0vEk7Il-64G"
      }
    },
    {
      "cell_type": "code",
      "source": [
        "# Calculate ATR\n",
        "atr_period = 14  # ATR period\n",
        "df['ATR'] = ta.volatility.AverageTrueRange(\n",
        "    high=df['High'],\n",
        "    low=df['Low'],\n",
        "    close=df['Close'],\n",
        "    window=atr_period\n",
        ").average_true_range()\n",
        "# Define a multiplier for the stop loss\n",
        "# drop all null values\n",
        "df.dropna(inplace=True)\n",
        "df['LowerStopLoss'] = df['Low'] - (df['ATR'] * stop_loss_multiplier)\n",
        "df['UpperStopLoss'] = df['High'] + (df['ATR'] * stop_loss_multiplier)"
      ],
      "metadata": {
        "id": "eK1_6Xlo-mf_"
      },
      "execution_count": 574,
      "outputs": []
    },
    {
      "cell_type": "markdown",
      "source": [
        "<i> Now that we have the upper and lower stop loss, our next task is to dynamically add the upper and lower stop loss ==> an even more challenging task.\n",
        "* For lower take profit, we  take upperstoploss - df.close. We then multiply this distance by risk-reward-ratio. We then take the close value of the candle and subtract this distance.\n",
        "\n",
        "* For upper take profit, we take the close - lower stop loss and multiply this value by risk-reward_multiplier. we then take the close and add this value."
      ],
      "metadata": {
        "id": "HprCLvjVB_WN"
      }
    },
    {
      "cell_type": "code",
      "source": [
        "df['LowerTakeProfit'] = df['Close'] - ((df['UpperStopLoss'] - df['Close']) * risk_reward_ratio)\n",
        "df['UpperTakeProfit'] = df['Close'] + ((df['Close'] - df['LowerStopLoss']) * risk_reward_ratio)\n",
        "# df.head(30)"
      ],
      "metadata": {
        "id": "MiB8hO9cE41t"
      },
      "execution_count": 575,
      "outputs": []
    },
    {
      "cell_type": "code",
      "source": [
        "# df.columns"
      ],
      "metadata": {
        "id": "4AIOdZ7yIBDV"
      },
      "execution_count": 576,
      "outputs": []
    },
    {
      "cell_type": "code",
      "source": [
        "short_trades, long_trades = (df['pureSignal']==1).sum(), (df['pureSignal']==2).sum()\n",
        "short_trades, long_trades # when we have not added the momentum factor into our trades instead we have only added adx"
      ],
      "metadata": {
        "colab": {
          "base_uri": "https://localhost:8080/"
        },
        "id": "-DoRjTYhN3nI",
        "outputId": "29021b10-21c9-4f00-aba1-1de0c8c0631c"
      },
      "execution_count": 577,
      "outputs": [
        {
          "output_type": "execute_result",
          "data": {
            "text/plain": [
              "(144, 134)"
            ]
          },
          "metadata": {},
          "execution_count": 577
        }
      ]
    },
    {
      "cell_type": "markdown",
      "source": [
        "* <i> now that we have everything that we need to take our signals, it is time to evaluate whether when 1, the trades hits take profit or the trade hits stop loss. Same when the signal is 2. Does the trade hits the upper take profit or does it hit the lower stop loss </i>\n"
      ],
      "metadata": {
        "id": "JqobBY_AHD3R"
      }
    },
    {
      "cell_type": "code",
      "source": [
        "# LowerTakeProfit,UpperStopLoss,UpperTakeProfit,LowerStopLoss"
      ],
      "metadata": {
        "id": "BVOJw0v2XlH8"
      },
      "execution_count": null,
      "outputs": []
    },
    {
      "cell_type": "code",
      "source": [
        "def calculate_final_result(df):\n",
        "    df['final_result'] = 0  # Initialize with 0\n",
        "\n",
        "    for i in range(len(df)):\n",
        "        current_index = df.index[i]\n",
        "        if df.loc[current_index, 'pureSignal'] == 1:\n",
        "            for j in range(i+1, len(df)):\n",
        "                future_index = df.index[j]\n",
        "                if df.loc[future_index, 'Low'] <= df.loc[current_index, 'LowerTakeProfit']:\n",
        "                    df.loc[current_index, 'final_result'] = 1\n",
        "                    break\n",
        "                elif df.loc[future_index, 'High'] >= df.loc[current_index, 'UpperStopLoss']:\n",
        "                    df.loc[current_index, 'final_result'] = 0\n",
        "                    break\n",
        "        elif df.loc[current_index, 'pureSignal'] == 2:\n",
        "            for j in range(i+1, len(df)):\n",
        "                future_index = df.index[j]\n",
        "                if df.loc[future_index, 'High'] >= df.loc[current_index, 'UpperTakeProfit']:\n",
        "                    df.loc[current_index, 'final_result'] = 2\n",
        "                    break\n",
        "                elif df.loc[future_index, 'Low'] <= df.loc[current_index, 'LowerStopLoss']:\n",
        "                    df.loc[current_index, 'final_result'] = 0\n",
        "                    break\n",
        "\n",
        "    return df\n",
        "\n",
        "# Assuming your DataFrame is called 'df'\n",
        "df = calculate_final_result(df)"
      ],
      "metadata": {
        "id": "VsMHMvEVWHbi"
      },
      "execution_count": 578,
      "outputs": []
    },
    {
      "cell_type": "code",
      "source": [
        "c_shorts, c_longs = (df['final_result']==1).sum(), (df['final_result']==2).sum()\n",
        "print(short_trades, long_trades)\n",
        "print(c_shorts, c_longs)"
      ],
      "metadata": {
        "colab": {
          "base_uri": "https://localhost:8080/"
        },
        "id": "zjPQIBqXWvF0",
        "outputId": "c0703f20-260a-43b6-fe32-60cd327533c7"
      },
      "execution_count": 579,
      "outputs": [
        {
          "output_type": "stream",
          "name": "stdout",
          "text": [
            "144 134\n",
            "40 41\n"
          ]
        }
      ]
    },
    {
      "cell_type": "code",
      "source": [
        "c_shorts/short_trades *100, c_longs/long_trades*100 # values in percentages"
      ],
      "metadata": {
        "colab": {
          "base_uri": "https://localhost:8080/"
        },
        "id": "AMlQUqpLW6HZ",
        "outputId": "dc3fa5c4-c166-4dee-cebd-299e1c203ea3"
      },
      "execution_count": 580,
      "outputs": [
        {
          "output_type": "execute_result",
          "data": {
            "text/plain": [
              "(27.77777777777778, 30.597014925373134)"
            ]
          },
          "metadata": {},
          "execution_count": 580
        }
      ]
    },
    {
      "cell_type": "code",
      "source": [
        "\n"
      ],
      "metadata": {
        "id": "MPRLefdhZaV_"
      },
      "execution_count": 580,
      "outputs": []
    },
    {
      "cell_type": "code",
      "source": [],
      "metadata": {
        "id": "RcqrqBWKQB0g"
      },
      "execution_count": 580,
      "outputs": []
    },
    {
      "cell_type": "code",
      "source": [
        "\n"
      ],
      "metadata": {
        "id": "AX7-mLdfQpzf"
      },
      "execution_count": 580,
      "outputs": []
    },
    {
      "cell_type": "code",
      "source": [],
      "metadata": {
        "id": "cJXOV6UTWhej"
      },
      "execution_count": 580,
      "outputs": []
    }
  ]
}